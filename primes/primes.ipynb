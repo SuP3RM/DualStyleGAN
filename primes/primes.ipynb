{
 "cells": [
  {
   "cell_type": "markdown",
   "id": "c239b40e-4520-43e4-bff2-e0a488f1b334",
   "metadata": {},
   "source": [
    "# Primes Visualization\n",
    "\n",
    "Script that visualizes the factorization of integers from 1 to N as an example dataset \n",
    "to perform dimensionality reduction on.\n",
    "\n",
    "Adapted from:\n",
    "    https://gist.github.com/johnhw/dfc7b8b8519aac530ac97da226c17bd5"
   ]
  },
  {
   "cell_type": "markdown",
   "id": "b60934ba-97b1-4583-9a05-f9bad3796fba",
   "metadata": {
    "tags": []
   },
   "source": [
    "# Generate Prime Data\n",
    "\n",
    "Specifically, the prime factors of integers from 1 to N encoded as binary vectors, which corresponds to an N-dimensional hyper-cube, stored in a sparse matrix. The result is then the target of dimensionality reduction algorithms."
   ]
  },
  {
   "cell_type": "code",
   "execution_count": null,
   "id": "20bbcc7a-ac6b-4a7e-b854-f9b45690daa8",
   "metadata": {},
   "outputs": [],
   "source": [
    "from pathlib import Path\n",
    "\n",
    "from matplotlib import pyplot as plt\n",
    "import numpy as np\n",
    "from scipy.special import expi\n",
    "import scipy.sparse\n",
    "from tqdm import tqdm\n",
    "\n",
    "from primes import factorization, primesbelow, smallprimes"
   ]
  },
  {
   "cell_type": "code",
   "execution_count": null,
   "id": "3e9106c8-7744-4b49-aa5c-84b0f0c8efed",
   "metadata": {},
   "outputs": [],
   "source": [
    "%matplotlib ipympl"
   ]
  },
  {
   "cell_type": "code",
   "execution_count": null,
   "id": "003bb3dd-4911-49a9-8775-0d08f9c56397",
   "metadata": {},
   "outputs": [],
   "source": [
    "prime_ix = {p:i for i,p in enumerate(smallprimes)}"
   ]
  },
  {
   "cell_type": "markdown",
   "id": "ddf1d81e-fec1-40b1-8af8-3265f5b4a154",
   "metadata": {},
   "source": [
    "Create sparse binary factor vectors for any number, and assemble into a matrix. One column for each unique prime factor. One row for each number, 0=does not have this factor, 1=does have this factor (might be repeated)"
   ]
  },
  {
   "cell_type": "code",
   "execution_count": null,
   "id": "46c139d0-ddec-4bfa-94aa-dcb44bbdced2",
   "metadata": {},
   "outputs": [],
   "source": [
    "def factor_vector_lil(n):\n",
    "    ## approximate prime counting function (upper bound for the values we are interested in)\n",
    "    ## gives us the number of rows (dimension of our space)\n",
    "    d = int(np.ceil(expi(np.log(n))))    \n",
    "    x = scipy.sparse.lil_matrix((n,d))\n",
    "    for i in tqdm(range(2,n)): \n",
    "        for k,v in factorization(i).items():            \n",
    "            x[i,prime_ix[k]] = 1\n",
    "                    \n",
    "    return x"
   ]
  },
  {
   "cell_type": "markdown",
   "id": "7b4dd579-0636-42f4-9465-15de094c48a0",
   "metadata": {
    "tags": []
   },
   "source": [
    "# Dimensionality Reduction"
   ]
  },
  {
   "cell_type": "code",
   "execution_count": null,
   "id": "c0def38d-ea5b-43ad-9ea7-ccb2fba66d8c",
   "metadata": {},
   "outputs": [],
   "source": [
    "emb = {}"
   ]
  },
  {
   "cell_type": "markdown",
   "id": "004799c3-3748-4cef-987f-92a2ddffe2db",
   "metadata": {},
   "source": [
    "## UMAP - Universal Manifold Approximation & Projection"
   ]
  },
  {
   "cell_type": "code",
   "execution_count": null,
   "id": "42823fdb-a417-4d8d-93ad-999717f21587",
   "metadata": {},
   "outputs": [],
   "source": [
    "import umap\n",
    "\n",
    "n = 1_000_000\n",
    "# n = 1000\n",
    "cachepath = Path(f\"umap-pts-cache-{n:.0g}.npz\")\n",
    "if not cachepath.is_file():\n",
    "    # Generate the matrix for 1 million integers\n",
    "    X = factor_vector_lil(n)\n",
    "\n",
    "    # embed with UMAP\n",
    "    emb['umap'] = umap.UMAP(metric='cosine', verbose=True, n_epochs=500).fit_transform(X)\n",
    "\n",
    "    # save for later\n",
    "    np.savez(f'pts-cache-{n:.1e}.npz', embedding=embedding)\n",
    "else:\n",
    "    emb['umap'] = np.load(cachepath)['embedding']"
   ]
  },
  {
   "cell_type": "code",
   "execution_count": null,
   "id": "cad29a5f-5900-48ab-8247-136a6ffa10f6",
   "metadata": {},
   "outputs": [],
   "source": [
    "import datashader as ds\n",
    "import colorcet as cc\n",
    "import datashader.transfer_functions as tf\n",
    "import pandas as pd\n",
    "import matplotlib.pyplot as plt\n",
    "\n",
    "def render_embedding(data, **kwargs):\n",
    "    size = min(data.shape[0] // 10, 100)\n",
    "    canvas = ds.Canvas(500, 500, **kwargs)\n",
    "    data = np.c_[data, np.arange(data.shape[0])]\n",
    "    df = pd.DataFrame(data, columns=[\"x\", \"y\", \"i\"])\n",
    "\n",
    "    img = tf.shade(canvas.points(df, 'x', 'y'), how=\"eq_hist\", cmap=plt.cm.viridis)\n",
    "    img = tf.set_background(img, 'black')\n",
    "    return img"
   ]
  },
  {
   "cell_type": "code",
   "execution_count": null,
   "id": "84057ed3-d82c-4c72-a66a-17e829c2bbaf",
   "metadata": {},
   "outputs": [],
   "source": [
    "N = 50_000"
   ]
  },
  {
   "cell_type": "code",
   "execution_count": null,
   "id": "7c83744a-6db7-42c8-b84c-23dbb6305297",
   "metadata": {},
   "outputs": [],
   "source": [
    "im = render_embedding(emb['umap'][:N])\n",
    "ds.utils.export_image(im, 'umap')"
   ]
  },
  {
   "cell_type": "markdown",
   "id": "fa78da47-b5d8-4198-9622-065cd77597ab",
   "metadata": {
    "tags": []
   },
   "source": [
    "## t-SNE"
   ]
  },
  {
   "cell_type": "code",
   "execution_count": null,
   "id": "6c8c14af-c110-450d-a11d-eec231ceea61",
   "metadata": {},
   "outputs": [],
   "source": [
    "X = factor_vector_lil(n)"
   ]
  },
  {
   "cell_type": "code",
   "execution_count": null,
   "id": "d59de1f8-a522-4071-b8a9-c53d49bce189",
   "metadata": {},
   "outputs": [],
   "source": [
    "from sklearn import manifold\n",
    "\n",
    "tsne = manifold.TSNE(2, perplexity=30.0, n_iter=500, init=\"random\")\n",
    "emb['tsne'] = tsne.fit_transform(X[:50_000])\n",
    "emb['tsne'].shape"
   ]
  },
  {
   "cell_type": "code",
   "execution_count": null,
   "id": "73f40a78-dd00-47eb-b6ca-3099d21704ef",
   "metadata": {},
   "outputs": [],
   "source": [
    "im = render_embedding(emb['tsne'], y_range=(-51, 51), x_range=(-51, 51))\n",
    "ds.utils.export_image(im, 'tsne')"
   ]
  },
  {
   "cell_type": "markdown",
   "id": "03f68033-dd5e-4a7f-a887-5f6739eb65c5",
   "metadata": {
    "tags": []
   },
   "source": [
    "## isomap"
   ]
  },
  {
   "cell_type": "code",
   "execution_count": null,
   "id": "39ee0ee8-d6a6-4393-ae02-5fff75571105",
   "metadata": {},
   "outputs": [],
   "source": [
    "iso = manifold.Isomap(n_components=2)\n",
    "emb['iso'] = iso.fit_transform(X[:10_000])\n",
    "emb['iso'].shape"
   ]
  },
  {
   "cell_type": "code",
   "execution_count": null,
   "id": "d59a19b7-2f0a-48ad-a897-bff0bd825443",
   "metadata": {},
   "outputs": [],
   "source": [
    "im = render_embedding(emb['iso'])\n",
    "ds.utils.export_image(im, 'isomap')"
   ]
  },
  {
   "cell_type": "code",
   "execution_count": null,
   "id": "ac8ac2bc-f9aa-45fc-8eb3-003a795ed260",
   "metadata": {},
   "outputs": [],
   "source": [
    "plt.figure(figsize=(4,4))\n",
    "plt.clf()\n",
    "plt.spy(X, aspect=\"auto\", marker='.', markersize=0.1)\n",
    "# plt.axis('off')\n",
    "plt.ylabel(\"$\\mathbb{Z} \\in [2, 50e3]$\")\n",
    "plt.xlabel(\"Prime Factors\")\n",
    "plt.xticks([])\n",
    "plt.yticks([])\n",
    "# plt.xlim([0, 50000])\n",
    "plt.show()\n",
    "plt.savefig('sparsity.png')"
   ]
  },
  {
   "cell_type": "code",
   "execution_count": null,
   "id": "c5d68ae8-6a8a-4c70-839a-b4e552d29605",
   "metadata": {},
   "outputs": [],
   "source": []
  },
  {
   "cell_type": "code",
   "execution_count": null,
   "id": "8b8a4f19-2432-434b-99be-0939032eb8aa",
   "metadata": {},
   "outputs": [],
   "source": []
  },
  {
   "cell_type": "code",
   "execution_count": null,
   "id": "b629e21c-33a0-40c9-9cc2-ad960bcd4b14",
   "metadata": {},
   "outputs": [],
   "source": []
  },
  {
   "cell_type": "markdown",
   "id": "948f096f-13d6-49e8-83e7-6476dc0246d2",
   "metadata": {},
   "source": [
    "## scratch"
   ]
  },
  {
   "cell_type": "code",
   "execution_count": null,
   "id": "1d3b8e2c-ae5e-4bb5-9a42-c14d76d32baa",
   "metadata": {},
   "outputs": [],
   "source": [
    "# and save the image\n",
    "fig = plt.figure(figsize=(8,8))\n",
    "fig.patch.set_facecolor('black')\n",
    "plt.scatter(embedding[:,0], embedding[:,1], marker='o', s=0.5, edgecolor='none',\n",
    "            c=np.arange(n), cmap=\"magma\")\n",
    "\n",
    "plt.axis(\"off\")\n",
    "# plt.savefig(f\"primes_umap_{n:.1e}_pts.png\", dpi=250, facecolor='black')"
   ]
  },
  {
   "cell_type": "code",
   "execution_count": null,
   "id": "f160bab3-fe8c-4ec2-844c-0f299a97eda8",
   "metadata": {},
   "outputs": [],
   "source": [
    "import holoviews as hv\n",
    "from holoviews.operation.datashader import datashade\n",
    "hv.extension('bokeh')\n",
    "\n",
    "points = hv.Points(df[:100_000], ['x', 'y'])\n",
    "datashade(points, cmap=cc.fire, width=1000, height=1000)"
   ]
  },
  {
   "cell_type": "code",
   "execution_count": null,
   "id": "dc57fc51-349c-4abd-a9ef-323752d9f9ad",
   "metadata": {},
   "outputs": [],
   "source": [
    "df.describe()"
   ]
  },
  {
   "cell_type": "code",
   "execution_count": null,
   "id": "a84e44f2-11cf-4f1b-a22b-3f5c532f06f7",
   "metadata": {},
   "outputs": [],
   "source": []
  },
  {
   "cell_type": "code",
   "execution_count": null,
   "id": "fda1adfe-b959-4041-a494-102f8195fc13",
   "metadata": {},
   "outputs": [],
   "source": []
  },
  {
   "cell_type": "code",
   "execution_count": null,
   "id": "8164c2e8-56b9-4bee-ac8f-b3d4d5ea0529",
   "metadata": {},
   "outputs": [],
   "source": [
    "import torch\n",
    "from torch import nn"
   ]
  },
  {
   "cell_type": "code",
   "execution_count": null,
   "id": "51240013-f549-4d6c-9828-8c768e93cf5a",
   "metadata": {},
   "outputs": [],
   "source": [
    "lin = nn.Linear(12*12*100, 1024, False)\n",
    "x = torch.randn(18, 18, 1000)\n",
    "lin(x)"
   ]
  }
 ],
 "metadata": {
  "kernelspec": {
   "display_name": "Python [conda env:.conda-raw-primes]",
   "language": "python",
   "name": "conda-env-.conda-raw-primes-py"
  },
  "language_info": {
   "codemirror_mode": {
    "name": "ipython",
    "version": 3
   },
   "file_extension": ".py",
   "mimetype": "text/x-python",
   "name": "python",
   "nbconvert_exporter": "python",
   "pygments_lexer": "ipython3",
   "version": "3.10.10"
  }
 },
 "nbformat": 4,
 "nbformat_minor": 5
}
